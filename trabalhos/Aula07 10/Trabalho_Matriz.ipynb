{
  "nbformat": 4,
  "nbformat_minor": 0,
  "metadata": {
    "colab": {
      "provenance": []
    },
    "kernelspec": {
      "name": "python3",
      "display_name": "Python 3"
    },
    "language_info": {
      "name": "python"
    }
  },
  "cells": [
    {
      "cell_type": "markdown",
      "source": [
        "Segunda célula: Configurando e compilando o código CUDA\n",
        "\n",
        "O código em CUDA para multiplicar matrizes e medir o tempo de execução"
      ],
      "metadata": {
        "id": "ihotgtbvI7FT"
      }
    },
    {
      "cell_type": "code",
      "source": [
        "%%writefile multiplicacao_matriz_gpu.cu\n",
        "#include <stdio.h>\n",
        "#include <stdlib.h>\n",
        "#include <cuda.h>\n",
        "\n",
        "// Função para multiplicação de matrizes no GPU\n",
        "__global__ void multiplicarMatrizes(int* matriz1, int* matriz2, int* resultado, int tamanho) {\n",
        "    int row = blockIdx.y * blockDim.y + threadIdx.y;\n",
        "    int col = blockIdx.x * blockDim.x + threadIdx.x;\n",
        "\n",
        "    if (row < tamanho && col < tamanho) {\n",
        "        int sum = 0;\n",
        "        for (int i = 0; i < tamanho; i++) {\n",
        "            sum += matriz1[row * tamanho + i] * matriz2[i * tamanho + col];\n",
        "        }\n",
        "        resultado[row * tamanho + col] = sum;\n",
        "    }\n",
        "}\n",
        "\n",
        "int main() {\n",
        "    int tamanho_matriz;\n",
        "\n",
        "    // Solicitar o tamanho da matriz quadrada\n",
        "    printf(\"Digite o tamanho da matriz quadrada: \");\n",
        "    if (scanf(\"%d\", &tamanho_matriz) != 1) {\n",
        "        printf(\"Erro ao ler o tamanho da matriz.\\n\");\n",
        "        return 1;\n",
        "    }\n",
        "\n",
        "    // Alocar memória no host (CPU)\n",
        "    int* h_matriz1 = (int*)malloc(tamanho_matriz * tamanho_matriz * sizeof(int));\n",
        "    int* h_matriz2 = (int*)malloc(tamanho_matriz * tamanho_matriz * sizeof(int));\n",
        "    int* h_resultado = (int*)malloc(tamanho_matriz * tamanho_matriz * sizeof(int));\n",
        "\n",
        "    // Preencher as matrizes com valores aleatórios\n",
        "    srand(time(NULL));\n",
        "    for (int i = 0; i < tamanho_matriz * tamanho_matriz; i++) {\n",
        "        h_matriz1[i] = rand() % 10;\n",
        "        h_matriz2[i] = rand() % 10;\n",
        "    }\n",
        "\n",
        "    // Alocar memória no device (GPU)\n",
        "    int* d_matriz1;\n",
        "    int* d_matriz2;\n",
        "    int* d_resultado;\n",
        "    cudaMalloc(&d_matriz1, tamanho_matriz * tamanho_matriz * sizeof(int));\n",
        "    cudaMalloc(&d_matriz2, tamanho_matriz * tamanho_matriz * sizeof(int));\n",
        "    cudaMalloc(&d_resultado, tamanho_matriz * tamanho_matriz * sizeof(int));\n",
        "\n",
        "    // Copiar os dados do host (CPU) para o device (GPU)\n",
        "    cudaMemcpy(d_matriz1, h_matriz1, tamanho_matriz * tamanho_matriz * sizeof(int), cudaMemcpyHostToDevice);\n",
        "    cudaMemcpy(d_matriz2, h_matriz2, tamanho_matriz * tamanho_matriz * sizeof(int), cudaMemcpyHostToDevice);\n",
        "\n",
        "    // Definir o número de threads e blocos\n",
        "    dim3 threadsPorBloco(16, 16);\n",
        "    dim3 blocosPorGrade((tamanho_matriz + threadsPorBloco.x - 1) / threadsPorBloco.x,\n",
        "                        (tamanho_matriz + threadsPorBloco.y - 1) / threadsPorBloco.y);\n",
        "\n",
        "    // Medir o tempo de execução no GPU\n",
        "    cudaEvent_t start, stop;\n",
        "    cudaEventCreate(&start);\n",
        "    cudaEventCreate(&stop);\n",
        "    cudaEventRecord(start);\n",
        "\n",
        "    // Executar o kernel para multiplicar as matrizes\n",
        "    multiplicarMatrizes<<<blocosPorGrade, threadsPorBloco>>>(d_matriz1, d_matriz2, d_resultado, tamanho_matriz);\n",
        "\n",
        "    // Medir o tempo de execução\n",
        "    cudaEventRecord(stop);\n",
        "    cudaEventSynchronize(stop);\n",
        "    float milliseconds = 0;\n",
        "    cudaEventElapsedTime(&milliseconds, start, stop);\n",
        "\n",
        "    // Copiar o resultado de volta para o host (CPU)\n",
        "    cudaMemcpy(h_resultado, d_resultado, tamanho_matriz * tamanho_matriz * sizeof(int), cudaMemcpyDeviceToHost);\n",
        "\n",
        "    // Exibir o tempo de execução no GPU\n",
        "    printf(\"Tempo de execução na GPU para multiplicar matrizes %dx%d: %f segundos\\n\", tamanho_matriz, tamanho_matriz, milliseconds / 1000);\n",
        "\n",
        "    // Liberar memória\n",
        "    cudaFree(d_matriz1);\n",
        "    cudaFree(d_matriz2);\n",
        "    cudaFree(d_resultado);\n",
        "    free(h_matriz1);\n",
        "    free(h_matriz2);\n",
        "    free(h_resultado);\n",
        "\n",
        "    return 0;\n",
        "}"
      ],
      "metadata": {
        "colab": {
          "base_uri": "https://localhost:8080/"
        },
        "id": "lKnuc00RIN2z",
        "outputId": "fdf3b0ea-89b0-468b-cd1b-4eb78e252928"
      },
      "execution_count": 7,
      "outputs": [
        {
          "output_type": "stream",
          "name": "stdout",
          "text": [
            "Overwriting multiplicacao_matriz_gpu.cu\n"
          ]
        }
      ]
    },
    {
      "cell_type": "code",
      "source": [
        "!nvcc multiplicacao_matriz_gpu.cu -o multiplicacao_matriz_gpu"
      ],
      "metadata": {
        "id": "aTP2anDEIbua"
      },
      "execution_count": 8,
      "outputs": []
    },
    {
      "cell_type": "code",
      "source": [
        "!./multiplicacao_matriz_gpu"
      ],
      "metadata": {
        "colab": {
          "base_uri": "https://localhost:8080/"
        },
        "id": "yb07-4z-IcEQ",
        "outputId": "61b5a958-3dd8-415f-8b92-0d90ffb8ba3b"
      },
      "execution_count": 37,
      "outputs": [
        {
          "output_type": "stream",
          "name": "stdout",
          "text": [
            "Digite o tamanho da matriz quadrada: 20000\n",
            "Tempo de execução na GPU para multiplicar matrizes 20000x20000: 68.102074 segundos\n"
          ]
        }
      ]
    },
    {
      "cell_type": "code",
      "source": [
        "%%writefile multiplicacao_matriz_cpu.c\n",
        "#include <stdio.h>\n",
        "#include <stdlib.h>\n",
        "#include <time.h>\n",
        "\n",
        "// Função para alocar memória para uma matriz\n",
        "int** alocarMatriz(int linhas, int colunas) {\n",
        "    int** matriz = (int**)malloc(linhas * sizeof(int*));\n",
        "    for (int i = 0; i < linhas; i++) {\n",
        "        matriz[i] = (int*)malloc(colunas * sizeof(int));\n",
        "    }\n",
        "    return matriz;\n",
        "}\n",
        "\n",
        "// Função para liberar a memória alocada para uma matriz\n",
        "void liberarMatriz(int** matriz, int linhas) {\n",
        "    for (int i = 0; i < linhas; i++) {\n",
        "        free(matriz[i]);\n",
        "    }\n",
        "    free(matriz);\n",
        "}\n",
        "\n",
        "// Função para preencher uma matriz com valores aleatórios\n",
        "void preencherMatriz(int** matriz, int linhas, int colunas) {\n",
        "    for (int i = 0; i < linhas; i++) {\n",
        "        for (int j = 0; j < colunas; j++) {\n",
        "            matriz[i][j] = rand() % 10; // Valores aleatórios entre 0 e 9\n",
        "        }\n",
        "    }\n",
        "}\n",
        "\n",
        "// Função para multiplicar duas matrizes\n",
        "int** multiplicarMatrizes(int** matriz1, int** matriz2, int linhas1, int colunas1, int colunas2) {\n",
        "    int** resultado = alocarMatriz(linhas1, colunas2);\n",
        "\n",
        "    for (int i = 0; i < linhas1; i++) {\n",
        "        for (int j = 0; j < colunas2; j++) {\n",
        "            resultado[i][j] = 0;\n",
        "            for (int k = 0; k < colunas1; k++) {\n",
        "                resultado[i][j] += matriz1[i][k] * matriz2[k][j];\n",
        "            }\n",
        "        }\n",
        "    }\n",
        "\n",
        "    return resultado;\n",
        "}\n",
        "\n",
        "int main() {\n",
        "    int tamanho_matriz;\n",
        "\n",
        "    // Solicitar o tamanho da matriz quadrada\n",
        "    printf(\"Digite o tamanho da matriz quadrada: \");\n",
        "    if (scanf(\"%d\", &tamanho_matriz) != 1) {\n",
        "        printf(\"Erro ao ler o tamanho da matriz.\\n\");\n",
        "        return 1;\n",
        "    }\n",
        "\n",
        "    srand(time(NULL)); // Inicializa a semente para números aleatórios\n",
        "\n",
        "    // Alocar e preencher as matrizes\n",
        "    int** matriz1 = alocarMatriz(tamanho_matriz, tamanho_matriz);\n",
        "    int** matriz2 = alocarMatriz(tamanho_matriz, tamanho_matriz);\n",
        "    preencherMatriz(matriz1, tamanho_matriz, tamanho_matriz);\n",
        "    preencherMatriz(matriz2, tamanho_matriz, tamanho_matriz);\n",
        "\n",
        "    // Medir o tempo de execução da multiplicação\n",
        "    clock_t inicio = clock(); // Pega o tempo antes da multiplicação\n",
        "\n",
        "    // Multiplicar as matrizes\n",
        "    int** resultado = multiplicarMatrizes(matriz1, matriz2, tamanho_matriz, tamanho_matriz, tamanho_matriz);\n",
        "\n",
        "    clock_t fim = clock(); // Pega o tempo após a multiplicação\n",
        "    double tempo_execucao = (double)(fim - inicio) / CLOCKS_PER_SEC; // Calcula o tempo em segundos\n",
        "\n",
        "    // Exibe o tempo de execução\n",
        "    printf(\"Tempo de execução na CPU para multiplicar matrizes %dx%d: %f segundos\\n\", tamanho_matriz, tamanho_matriz, tempo_execucao);\n",
        "\n",
        "    // Liberar a memória alocada\n",
        "    liberarMatriz(matriz1, tamanho_matriz);\n",
        "    liberarMatriz(matriz2, tamanho_matriz);\n",
        "    liberarMatriz(resultado, tamanho_matriz);\n",
        "\n",
        "    return 0;\n",
        "}"
      ],
      "metadata": {
        "colab": {
          "base_uri": "https://localhost:8080/"
        },
        "id": "sGoUvnY0LS3X",
        "outputId": "93ffd857-0cfd-4702-e9c6-9985f499bd01"
      },
      "execution_count": 2,
      "outputs": [
        {
          "output_type": "stream",
          "name": "stdout",
          "text": [
            "Writing multiplicacao_matriz_cpu.c\n"
          ]
        }
      ]
    },
    {
      "cell_type": "code",
      "source": [
        "!gcc multiplicacao_matriz_cpu.c -o multiplicacao_matriz_cpu -O2"
      ],
      "metadata": {
        "id": "-HUjfXjaLvsp"
      },
      "execution_count": 3,
      "outputs": []
    },
    {
      "cell_type": "code",
      "source": [
        "!./multiplicacao_matriz_cpu"
      ],
      "metadata": {
        "colab": {
          "base_uri": "https://localhost:8080/"
        },
        "id": "DKxmPxEdQi4J",
        "outputId": "11366d66-bd00-439d-ac26-2acd104f1dd7"
      },
      "execution_count": 6,
      "outputs": [
        {
          "output_type": "stream",
          "name": "stdout",
          "text": [
            "Digite o tamanho da matriz quadrada: 500\n",
            "Tempo de execução na CPU para multiplicar matrizes 500x500: 0.150315 segundos\n"
          ]
        }
      ]
    }
  ]
}